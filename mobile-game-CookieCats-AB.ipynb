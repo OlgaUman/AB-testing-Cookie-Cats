{
 "cells": [
  {
   "cell_type": "markdown",
   "metadata": {},
   "source": [
    "## Проект: Cookie Cats"
   ]
  },
  {
   "cell_type": "code",
   "execution_count": 2,
   "metadata": {},
   "outputs": [],
   "source": [
    "import pandas as pd\n",
    "import numpy as np\n",
    "\n",
    "import matplotlib.pyplot as plt\n",
    "import seaborn as sns\n",
    "\n",
    "import pingouin as pg\n",
    "\n",
    "sns.set_palette('Set2')\n",
    "\n",
    "import warnings\n",
    "\n",
    "warnings.filterwarnings(\"ignore\")\n",
    "\n"
   ]
  },
  {
   "cell_type": "markdown",
   "metadata": {},
   "source": [
    "### 1. Предварительный анализ данных."
   ]
  },
  {
   "cell_type": "code",
   "execution_count": 3,
   "metadata": {},
   "outputs": [
    {
     "data": {
      "text/html": [
       "<div>\n",
       "<style scoped>\n",
       "    .dataframe tbody tr th:only-of-type {\n",
       "        vertical-align: middle;\n",
       "    }\n",
       "\n",
       "    .dataframe tbody tr th {\n",
       "        vertical-align: top;\n",
       "    }\n",
       "\n",
       "    .dataframe thead th {\n",
       "        text-align: right;\n",
       "    }\n",
       "</style>\n",
       "<table border=\"1\" class=\"dataframe\">\n",
       "  <thead>\n",
       "    <tr style=\"text-align: right;\">\n",
       "      <th></th>\n",
       "      <th>userid</th>\n",
       "      <th>version</th>\n",
       "      <th>sum_gamerounds</th>\n",
       "      <th>retention_1</th>\n",
       "      <th>retention_7</th>\n",
       "    </tr>\n",
       "  </thead>\n",
       "  <tbody>\n",
       "    <tr>\n",
       "      <th>0</th>\n",
       "      <td>116</td>\n",
       "      <td>gate_30</td>\n",
       "      <td>3</td>\n",
       "      <td>False</td>\n",
       "      <td>False</td>\n",
       "    </tr>\n",
       "    <tr>\n",
       "      <th>1</th>\n",
       "      <td>337</td>\n",
       "      <td>gate_30</td>\n",
       "      <td>38</td>\n",
       "      <td>True</td>\n",
       "      <td>False</td>\n",
       "    </tr>\n",
       "    <tr>\n",
       "      <th>2</th>\n",
       "      <td>377</td>\n",
       "      <td>gate_40</td>\n",
       "      <td>165</td>\n",
       "      <td>True</td>\n",
       "      <td>False</td>\n",
       "    </tr>\n",
       "    <tr>\n",
       "      <th>3</th>\n",
       "      <td>483</td>\n",
       "      <td>gate_40</td>\n",
       "      <td>1</td>\n",
       "      <td>False</td>\n",
       "      <td>False</td>\n",
       "    </tr>\n",
       "    <tr>\n",
       "      <th>4</th>\n",
       "      <td>488</td>\n",
       "      <td>gate_40</td>\n",
       "      <td>179</td>\n",
       "      <td>True</td>\n",
       "      <td>True</td>\n",
       "    </tr>\n",
       "  </tbody>\n",
       "</table>\n",
       "</div>"
      ],
      "text/plain": [
       "   userid  version  sum_gamerounds  retention_1  retention_7\n",
       "0     116  gate_30               3        False        False\n",
       "1     337  gate_30              38         True        False\n",
       "2     377  gate_40             165         True        False\n",
       "3     483  gate_40               1        False        False\n",
       "4     488  gate_40             179         True         True"
      ]
     },
     "execution_count": 3,
     "metadata": {},
     "output_type": "execute_result"
    }
   ],
   "source": [
    "cats_df = pd.read_csv('data/cookie_cats.csv')\n",
    "cats_df.head()"
   ]
  },
  {
   "cell_type": "code",
   "execution_count": 4,
   "metadata": {},
   "outputs": [
    {
     "data": {
      "text/plain": [
       "(90189, 5)"
      ]
     },
     "execution_count": 4,
     "metadata": {},
     "output_type": "execute_result"
    }
   ],
   "source": [
    "# Размерность данных\n",
    "cats_df.shape"
   ]
  },
  {
   "cell_type": "code",
   "execution_count": 5,
   "metadata": {},
   "outputs": [
    {
     "name": "stdout",
     "output_type": "stream",
     "text": [
      "<class 'pandas.core.frame.DataFrame'>\n",
      "RangeIndex: 90189 entries, 0 to 90188\n",
      "Data columns (total 5 columns):\n",
      " #   Column          Non-Null Count  Dtype \n",
      "---  ------          --------------  ----- \n",
      " 0   userid          90189 non-null  int64 \n",
      " 1   version         90189 non-null  object\n",
      " 2   sum_gamerounds  90189 non-null  int64 \n",
      " 3   retention_1     90189 non-null  bool  \n",
      " 4   retention_7     90189 non-null  bool  \n",
      "dtypes: bool(2), int64(2), object(1)\n",
      "memory usage: 2.2+ MB\n"
     ]
    }
   ],
   "source": [
    "# Типы данных\n",
    "cats_df.info()"
   ]
  },
  {
   "cell_type": "code",
   "execution_count": 6,
   "metadata": {},
   "outputs": [
    {
     "data": {
      "text/plain": [
       "True"
      ]
     },
     "execution_count": 6,
     "metadata": {},
     "output_type": "execute_result"
    }
   ],
   "source": [
    "# Проверим пользователей на уникальность\n",
    "cats_df.userid.nunique() == cats_df.shape[0]"
   ]
  },
  {
   "cell_type": "code",
   "execution_count": 7,
   "metadata": {},
   "outputs": [
    {
     "data": {
      "text/plain": [
       "count    90189.000000\n",
       "mean        51.872457\n",
       "std        195.050858\n",
       "min          0.000000\n",
       "25%          5.000000\n",
       "50%         16.000000\n",
       "75%         51.000000\n",
       "max      49854.000000\n",
       "Name: sum_gamerounds, dtype: float64"
      ]
     },
     "execution_count": 7,
     "metadata": {},
     "output_type": "execute_result"
    }
   ],
   "source": [
    "# Описательные статистики для sum_gamerounds\n",
    "cats_df.sum_gamerounds.describe()"
   ]
  },
  {
   "cell_type": "markdown",
   "metadata": {},
   "source": [
    "В датасете 90189 записей, типы данных корректны и соответствуют логике датасета, пропусков нет, все пользователи уникальны.\n",
    "\n",
    "Количество сыгранных раундов от 0 до 49854. Это говорит о том, что часть пользователей после установки не играли вообще, и в данных, скорее всего есть выбросы, так как невозможно за 14 дней набрать 49854 раунда.\n",
    "\n",
    "Исследуем этот признак подробнее."
   ]
  },
  {
   "cell_type": "code",
   "execution_count": 8,
   "metadata": {},
   "outputs": [
    {
     "name": "stdout",
     "output_type": "stream",
     "text": [
      "Не играли после установки 3994 пользователей,\n",
      "что составляет 4.43% от общего их числа.\n"
     ]
    }
   ],
   "source": [
    "not_playing = cats_df.query('sum_gamerounds == 0').shape[0]\n",
    "not_playing_perc = not_playing / cats_df.shape[0] * 100\n",
    "print(f'Не играли после установки {not_playing} пользователей,')\n",
    "print(f'что составляет {not_playing_perc:.2f}% от общего их числа.')"
   ]
  },
  {
   "cell_type": "markdown",
   "metadata": {},
   "source": [
    "Поскольку мы исследуем влияние установки ворот на 30 либо 40 уровне, пользователи, вообще не заходившие в игру не влияют на результат. \n",
    "\n",
    "Исключим их из данных."
   ]
  },
  {
   "cell_type": "code",
   "execution_count": 9,
   "metadata": {},
   "outputs": [],
   "source": [
    "clear_df = cats_df.query('sum_gamerounds != 0')"
   ]
  },
  {
   "cell_type": "code",
   "execution_count": 10,
   "metadata": {},
   "outputs": [
    {
     "data": {
      "image/png": "[encoded data removed]",
      "text/plain": [
       "<Figure size 640x480 with 1 Axes>"
      ]
     },
     "metadata": {},
     "output_type": "display_data"
    }
   ],
   "source": [
    "# Посмотрим на выбросы в данных\n",
    "sns.boxplot(clear_df.sum_gamerounds, orient='h')\n",
    "plt.title('Распределение количества раундов')\n",
    "plt.xlabel('')\n",
    "plt.show()"
   ]
  },
  {
   "cell_type": "markdown",
   "metadata": {},
   "source": [
    "Очевидно, что в данных есть один выброс, удалим его.\n",
    "\n",
    "Посмотрим на описательные статистики и распределение раундов в очищенных данных"
   ]
  },
  {
   "cell_type": "code",
   "execution_count": 11,
   "metadata": {},
   "outputs": [],
   "source": [
    "clear_df = clear_df.query('sum_gamerounds != 49854')"
   ]
  },
  {
   "cell_type": "code",
   "execution_count": 12,
   "metadata": {},
   "outputs": [
    {
     "data": {
      "text/plain": [
       "count    86194.000000\n",
       "mean        53.698297\n",
       "std        104.425174\n",
       "min          1.000000\n",
       "25%          6.000000\n",
       "50%         18.000000\n",
       "75%         54.000000\n",
       "max       2961.000000\n",
       "Name: sum_gamerounds, dtype: float64"
      ]
     },
     "execution_count": 12,
     "metadata": {},
     "output_type": "execute_result"
    }
   ],
   "source": [
    "clear_df.sum_gamerounds.describe()"
   ]
  },
  {
   "cell_type": "code",
   "execution_count": 13,
   "metadata": {},
   "outputs": [
    {
     "data": {
      "image/png": "[encoded data removed]",
      "text/plain": [
       "<Figure size 640x480 with 1 Axes>"
      ]
     },
     "metadata": {},
     "output_type": "display_data"
    }
   ],
   "source": [
    "sns.boxplot(clear_df.sum_gamerounds, orient='h')\n",
    "plt.title('Распределение количества раундов')\n",
    "plt.xlabel('')\n",
    "plt.show()"
   ]
  },
  {
   "cell_type": "markdown",
   "metadata": {},
   "source": [
    "Визуально видно, что распределение количества раундов отличается от нормального, но мы проверим это дальше. Экстремальные значения свыше 2000 нельзя считать выбросами, так как вполе возможно сыграть около 200 раундов в день.\n",
    "\n",
    "Посмотрим на то, как пользователи были распределены по группам и нет ли в группах пересечений пользователей."
   ]
  },
  {
   "cell_type": "code",
   "execution_count": 14,
   "metadata": {},
   "outputs": [
    {
     "data": {
      "text/html": [
       "<div>\n",
       "<style scoped>\n",
       "    .dataframe tbody tr th:only-of-type {\n",
       "        vertical-align: middle;\n",
       "    }\n",
       "\n",
       "    .dataframe tbody tr th {\n",
       "        vertical-align: top;\n",
       "    }\n",
       "\n",
       "    .dataframe thead th {\n",
       "        text-align: right;\n",
       "    }\n",
       "</style>\n",
       "<table border=\"1\" class=\"dataframe\">\n",
       "  <thead>\n",
       "    <tr style=\"text-align: right;\">\n",
       "      <th></th>\n",
       "      <th>version</th>\n",
       "      <th>userid</th>\n",
       "    </tr>\n",
       "  </thead>\n",
       "  <tbody>\n",
       "    <tr>\n",
       "      <th>0</th>\n",
       "      <td>gate_30</td>\n",
       "      <td>42762</td>\n",
       "    </tr>\n",
       "    <tr>\n",
       "      <th>1</th>\n",
       "      <td>gate_40</td>\n",
       "      <td>43432</td>\n",
       "    </tr>\n",
       "  </tbody>\n",
       "</table>\n",
       "</div>"
      ],
      "text/plain": [
       "   version  userid\n",
       "0  gate_30   42762\n",
       "1  gate_40   43432"
      ]
     },
     "execution_count": 14,
     "metadata": {},
     "output_type": "execute_result"
    }
   ],
   "source": [
    "clear_df.groupby('version', as_index=False).userid.count()"
   ]
  },
  {
   "cell_type": "markdown",
   "metadata": {},
   "source": [
    "Пользователи распределены примерно поровну."
   ]
  },
  {
   "cell_type": "code",
   "execution_count": 15,
   "metadata": {},
   "outputs": [
    {
     "data": {
      "text/plain": [
       "set()"
      ]
     },
     "execution_count": 15,
     "metadata": {},
     "output_type": "execute_result"
    }
   ],
   "source": [
    "# Разделим пользователей на группы\n",
    "gr_A = clear_df.query('version == \"gate_30\"')\n",
    "gr_B = clear_df.query('version == \"gate_40\"')\n",
    "# Проверим на пересечение пользователей\n",
    "set(gr_A.userid).intersection(set(gr_B.userid))"
   ]
  },
  {
   "cell_type": "markdown",
   "metadata": {},
   "source": [
    "Пересечений пользователей между группами нет."
   ]
  },
  {
   "cell_type": "markdown",
   "metadata": {},
   "source": [
    "### 2. Анализ результатов A/B-тестирования."
   ]
  },
  {
   "cell_type": "markdown",
   "metadata": {},
   "source": [
    "Для анализа результатов мы посмотрим на изменение `retention`. Это основная метрика для данного набора данных, так как мы проверяем именно продолжающийся интерес к игре. Другими релевантными метриками были бы, например, количество покупок, APRU, ARPPU, CR в покупку, но у нас нет данных для такого анализа.\n",
    "\n",
    "Также мы сравним количество сыгранных раундов в обеих группах."
   ]
  },
  {
   "cell_type": "markdown",
   "metadata": {},
   "source": [
    "#### 2.1. Сравнение количества сыгранных раундов"
   ]
  },
  {
   "cell_type": "markdown",
   "metadata": {},
   "source": [
    "Для выбора теста необходимо проверить выборки групп на нормальность и равенство дисперсий. Если распределения нормальны и дисперсии равны, мы сможем применить t-test. \n",
    "\n",
    "Для всех проводимых тестов здесь и далее задаем уровень значимости `alpha` = 0.05\n",
    "\n",
    "Проверим выборки на нормальность тестом Д'Агостино, так как в выборках количество записей > 5000.\n",
    "\n",
    "* Нулевая гипотеза: распределения нормальны.\n",
    "* Альтернативная гипотеза: распределения не являются нормальными."
   ]
  },
  {
   "cell_type": "code",
   "execution_count": 27,
   "metadata": {},
   "outputs": [
    {
     "data": {
      "text/html": [
       "<div>\n",
       "<style scoped>\n",
       "    .dataframe tbody tr th:only-of-type {\n",
       "        vertical-align: middle;\n",
       "    }\n",
       "\n",
       "    .dataframe tbody tr th {\n",
       "        vertical-align: top;\n",
       "    }\n",
       "\n",
       "    .dataframe thead th {\n",
       "        text-align: right;\n",
       "    }\n",
       "</style>\n",
       "<table border=\"1\" class=\"dataframe\">\n",
       "  <thead>\n",
       "    <tr style=\"text-align: right;\">\n",
       "      <th></th>\n",
       "      <th>W</th>\n",
       "      <th>pval</th>\n",
       "      <th>normal</th>\n",
       "    </tr>\n",
       "    <tr>\n",
       "      <th>version</th>\n",
       "      <th></th>\n",
       "      <th></th>\n",
       "      <th></th>\n",
       "    </tr>\n",
       "  </thead>\n",
       "  <tbody>\n",
       "    <tr>\n",
       "      <th>gate_30</th>\n",
       "      <td>48992.288804</td>\n",
       "      <td>0.0</td>\n",
       "      <td>False</td>\n",
       "    </tr>\n",
       "    <tr>\n",
       "      <th>gate_40</th>\n",
       "      <td>49582.698078</td>\n",
       "      <td>0.0</td>\n",
       "      <td>False</td>\n",
       "    </tr>\n",
       "  </tbody>\n",
       "</table>\n",
       "</div>"
      ],
      "text/plain": [
       "                    W  pval  normal\n",
       "version                            \n",
       "gate_30  48992.288804   0.0   False\n",
       "gate_40  49582.698078   0.0   False"
      ]
     },
     "execution_count": 27,
     "metadata": {},
     "output_type": "execute_result"
    }
   ],
   "source": [
    "pg.normality(data=clear_df, dv='sum_gamerounds', group='version', method='normaltest')"
   ]
  },
  {
   "cell_type": "code",
   "execution_count": 17,
   "metadata": {},
   "outputs": [
    {
     "data": {
      "image/png": "[encoded data removed]",
      "text/plain": [
       "<Figure size 640x480 with 1 Axes>"
      ]
     },
     "metadata": {},
     "output_type": "display_data"
    },
    {
     "data": {
      "image/png": "[encoded data removed]",
      "text/plain": [
       "<Figure size 640x480 with 1 Axes>"
      ]
     },
     "metadata": {},
     "output_type": "display_data"
    }
   ],
   "source": [
    "# Построим графики QQ-plot для дополнительной визуализации\n",
    "pg.qqplot(gr_A.sum_gamerounds)\n",
    "plt.title('Контрольная группа')\n",
    "plt.xlabel('')\n",
    "plt.show()\n",
    "pg.qqplot(gr_B.sum_gamerounds)\n",
    "plt.title('Тестовая группа')\n",
    "plt.xlabel('')\n",
    "plt.show()\n"
   ]
  },
  {
   "cell_type": "markdown",
   "metadata": {},
   "source": [
    "Тест Д'Агостино показал значение p-value = 0 для обеих групп, следовательно мы отвергаем нулевую гипотезу о нормальности распределений. Графики QQ-plots подтверждают, что распределения очень далеки от нормальных."
   ]
  },
  {
   "cell_type": "markdown",
   "metadata": {},
   "source": [
    "Проведем тест Левена на равенство дисперсий.\n",
    "\n",
    "* Нулевая гипотеза: дисперсии в выборках равны.\n",
    "* Альтернативная гипотеза: дисперсии не равны."
   ]
  },
  {
   "cell_type": "code",
   "execution_count": 18,
   "metadata": {},
   "outputs": [
    {
     "data": {
      "text/html": [
       "<div>\n",
       "<style scoped>\n",
       "    .dataframe tbody tr th:only-of-type {\n",
       "        vertical-align: middle;\n",
       "    }\n",
       "\n",
       "    .dataframe tbody tr th {\n",
       "        vertical-align: top;\n",
       "    }\n",
       "\n",
       "    .dataframe thead th {\n",
       "        text-align: right;\n",
       "    }\n",
       "</style>\n",
       "<table border=\"1\" class=\"dataframe\">\n",
       "  <thead>\n",
       "    <tr style=\"text-align: right;\">\n",
       "      <th></th>\n",
       "      <th>W</th>\n",
       "      <th>pval</th>\n",
       "      <th>equal_var</th>\n",
       "    </tr>\n",
       "  </thead>\n",
       "  <tbody>\n",
       "    <tr>\n",
       "      <th>levene</th>\n",
       "      <td>0.159666</td>\n",
       "      <td>0.689465</td>\n",
       "      <td>True</td>\n",
       "    </tr>\n",
       "  </tbody>\n",
       "</table>\n",
       "</div>"
      ],
      "text/plain": [
       "               W      pval  equal_var\n",
       "levene  0.159666  0.689465       True"
      ]
     },
     "execution_count": 18,
     "metadata": {},
     "output_type": "execute_result"
    }
   ],
   "source": [
    "pg.homoscedasticity(data=clear_df, dv='sum_gamerounds', group='version')"
   ]
  },
  {
   "cell_type": "markdown",
   "metadata": {},
   "source": [
    "Тест Левена показал, что pvalue выше заданного уровня значимости, следовательно у нас нет оснований отвергнуть нулевую гипотезу о равенстве дисперсий.\n",
    "\n",
    "Поскольку распределения в сильно отличаются от нормальных, мы не можем использовать t-test для сравнения средних.\n",
    "\n",
    "Я буду использовать bootstrap для сравнения среднего количества сыгранных раундов.\n",
    "\n",
    "Сначала рассчитаем среднее для групп:"
   ]
  },
  {
   "cell_type": "code",
   "execution_count": 19,
   "metadata": {},
   "outputs": [
    {
     "data": {
      "text/plain": [
       "version\n",
       "gate_30    53.667766\n",
       "gate_40    53.728357\n",
       "Name: sum_gamerounds, dtype: float64"
      ]
     },
     "execution_count": 19,
     "metadata": {},
     "output_type": "execute_result"
    }
   ],
   "source": [
    "clear_df.groupby('version').sum_gamerounds.mean()"
   ]
  },
  {
   "cell_type": "markdown",
   "metadata": {},
   "source": [
    "По имеющимся данным средние в группах различаются в десятых.\n",
    "\n",
    "Рассчитаем доверительные интервалы и сравним их.\n",
    "\n",
    "* Нулевая гипотеза: средние в группах равны\n",
    "* Альтернативная гипотеза: средние в группах различаются."
   ]
  },
  {
   "cell_type": "code",
   "execution_count": 20,
   "metadata": {},
   "outputs": [
    {
     "name": "stdout",
     "output_type": "stream",
     "text": [
      "Доверительный интервал группы А: [52.71 54.71]\n",
      "Доверительный интервал группы B: [52.78 54.85]\n"
     ]
    }
   ],
   "source": [
    "# Доверительные интервалы для среднего контрольной и тестовой групп\n",
    "ci_A = pg.compute_bootci(gr_A.sum_gamerounds.values, seed=42,\n",
    "                         func='mean', n_boot=1000, return_dist=True)\n",
    "ci_B = pg.compute_bootci(gr_B.sum_gamerounds.values, seed=42,\n",
    "                         func='mean', n_boot=1000, return_dist=True)\n",
    "print(f'Доверительный интервал группы А: {ci_A[0]}')\n",
    "print(f'Доверительный интервал группы B: {ci_B[0]}')"
   ]
  },
  {
   "cell_type": "code",
   "execution_count": 21,
   "metadata": {},
   "outputs": [
    {
     "data": {
      "image/png": "[encoded data removed]",
      "text/plain": [
       "<Figure size 640x480 with 1 Axes>"
      ]
     },
     "metadata": {},
     "output_type": "display_data"
    }
   ],
   "source": [
    "# Визуализируем получившиеся распределения\n",
    "sns.histplot(ci_A[1], label='Контрольная группа')\n",
    "sns.histplot(ci_B[1], label='Целевая группа')\n",
    "plt.vlines(ci_A[0], ymin=0, ymax=60, colors='r')\n",
    "plt.vlines(ci_B[0], ymin=0, ymax=60, colors='b')\n",
    "plt.title('Распределения среднего количества раундов в группах\\n')\n",
    "plt.xlabel('')\n",
    "plt.legend()\n",
    "plt.show()"
   ]
  },
  {
   "cell_type": "markdown",
   "metadata": {},
   "source": [
    "Мы видим, что распределения средних количества раундов практически наложились друг на друга. Для ясности рассчитаем с помощью bootstrap доверительные интервалы для разницы средних."
   ]
  },
  {
   "cell_type": "code",
   "execution_count": 22,
   "metadata": {},
   "outputs": [
    {
     "name": "stdout",
     "output_type": "stream",
     "text": [
      "Доверительный интервал для разницы средних значений: [-1.34  1.37]\n"
     ]
    }
   ],
   "source": [
    "def mean_diff(x, y):\n",
    "    \"\"\"Функция рассчитывает разницу средних\n",
    "    для последующего использования в pg.compute_bootci\n",
    "\n",
    "    Args:\n",
    "        x (pd.Series): Первая выборка для сравнения\n",
    "        y (pd.Series): Вторая выборка для сравнения\n",
    "\n",
    "    Returns:\n",
    "        numpy.float64: Разница между средними значениями в выборках\n",
    "    \"\"\"\n",
    "    return np.mean(x) - np.mean(y)\n",
    "\n",
    "# Рассчитываем доверительный интервал для разницы средних\n",
    "ci = pg.compute_bootci(gr_A.sum_gamerounds, gr_B.sum_gamerounds, func=mean_diff, n_boot=1000, seed=42)\n",
    "print(f'Доверительный интервал для разницы средних значений: {ci}')"
   ]
  },
  {
   "cell_type": "markdown",
   "metadata": {},
   "source": [
    "Так как 95% доверительный интервал для разницы средних значений количества сыгранных раундов в группах включает 0, статистически значимых различий между средними нет: мы не можем отвергнуть нулевую гипотезу о равенстве средних в группах.\n",
    "\n",
    "Следовательно, перемещение ворот на 40 уровень не оказало влияния на среднее количество сыгранных раундов."
   ]
  },
  {
   "cell_type": "markdown",
   "metadata": {},
   "source": [
    "#### 2.2. Сравнение Retention."
   ]
  },
  {
   "cell_type": "markdown",
   "metadata": {},
   "source": [
    "Для оценки того, повлияло ли изменение механики игры на `Retention`, то есть удержание клиентов в игре, я буду использовать критерий Хи-квадрат, так как сравниваем две категориалтные переменные.\n",
    "\n",
    "Для Retention первого и седьмого дня гипотезы будут одинаковыми:\n",
    "\n",
    "* Нулевая гипотеза: распределения Retention в обоих группах независимы и частоты одинаковы.\n",
    "* Альтернативная гипотеза: распределения Retention отличаются."
   ]
  },
  {
   "cell_type": "markdown",
   "metadata": {},
   "source": [
    "##### 2.2.1. Retention первого дня."
   ]
  },
  {
   "cell_type": "code",
   "execution_count": 23,
   "metadata": {},
   "outputs": [
    {
     "name": "stdout",
     "output_type": "stream",
     "text": [
      "Retention первого дня в контрольной группе = 0.47\n",
      "Retention первого дня в тестовой группе = 0.46\n"
     ]
    }
   ],
   "source": [
    "# Рассчитаем значения retention для групп\n",
    "ret_1_A = gr_A.retention_1.mean()\n",
    "ret_1_B = gr_B.retention_1.mean()\n",
    "print(f'Retention первого дня в контрольной группе = {ret_1_A:.2f}')\n",
    "print(f'Retention первого дня в тестовой группе = {ret_1_B:.2f}')"
   ]
  },
  {
   "cell_type": "markdown",
   "metadata": {},
   "source": [
    "Значения retention различаются в сотых долях процента. Проверим статистическую значимость этого различия:"
   ]
  },
  {
   "cell_type": "code",
   "execution_count": 24,
   "metadata": {},
   "outputs": [
    {
     "data": {
      "text/html": [
       "<div>\n",
       "<style scoped>\n",
       "    .dataframe tbody tr th:only-of-type {\n",
       "        vertical-align: middle;\n",
       "    }\n",
       "\n",
       "    .dataframe tbody tr th {\n",
       "        vertical-align: top;\n",
       "    }\n",
       "\n",
       "    .dataframe thead th {\n",
       "        text-align: right;\n",
       "    }\n",
       "</style>\n",
       "<table border=\"1\" class=\"dataframe\">\n",
       "  <thead>\n",
       "    <tr style=\"text-align: right;\">\n",
       "      <th></th>\n",
       "      <th>test</th>\n",
       "      <th>lambda</th>\n",
       "      <th>chi2</th>\n",
       "      <th>dof</th>\n",
       "      <th>pval</th>\n",
       "      <th>cramer</th>\n",
       "      <th>power</th>\n",
       "    </tr>\n",
       "  </thead>\n",
       "  <tbody>\n",
       "    <tr>\n",
       "      <th>0</th>\n",
       "      <td>pearson</td>\n",
       "      <td>1.000000</td>\n",
       "      <td>2.476719</td>\n",
       "      <td>1.0</td>\n",
       "      <td>0.115543</td>\n",
       "      <td>0.00536</td>\n",
       "      <td>0.349877</td>\n",
       "    </tr>\n",
       "    <tr>\n",
       "      <th>1</th>\n",
       "      <td>cressie-read</td>\n",
       "      <td>0.666667</td>\n",
       "      <td>2.476718</td>\n",
       "      <td>1.0</td>\n",
       "      <td>0.115543</td>\n",
       "      <td>0.00536</td>\n",
       "      <td>0.349877</td>\n",
       "    </tr>\n",
       "    <tr>\n",
       "      <th>2</th>\n",
       "      <td>log-likelihood</td>\n",
       "      <td>0.000000</td>\n",
       "      <td>2.476721</td>\n",
       "      <td>1.0</td>\n",
       "      <td>0.115543</td>\n",
       "      <td>0.00536</td>\n",
       "      <td>0.349878</td>\n",
       "    </tr>\n",
       "    <tr>\n",
       "      <th>3</th>\n",
       "      <td>freeman-tukey</td>\n",
       "      <td>-0.500000</td>\n",
       "      <td>2.476727</td>\n",
       "      <td>1.0</td>\n",
       "      <td>0.115542</td>\n",
       "      <td>0.00536</td>\n",
       "      <td>0.349878</td>\n",
       "    </tr>\n",
       "    <tr>\n",
       "      <th>4</th>\n",
       "      <td>mod-log-likelihood</td>\n",
       "      <td>-1.000000</td>\n",
       "      <td>2.476736</td>\n",
       "      <td>1.0</td>\n",
       "      <td>0.115542</td>\n",
       "      <td>0.00536</td>\n",
       "      <td>0.349879</td>\n",
       "    </tr>\n",
       "    <tr>\n",
       "      <th>5</th>\n",
       "      <td>neyman</td>\n",
       "      <td>-2.000000</td>\n",
       "      <td>2.476762</td>\n",
       "      <td>1.0</td>\n",
       "      <td>0.115540</td>\n",
       "      <td>0.00536</td>\n",
       "      <td>0.349883</td>\n",
       "    </tr>\n",
       "  </tbody>\n",
       "</table>\n",
       "</div>"
      ],
      "text/plain": [
       "                 test    lambda      chi2  dof      pval   cramer     power\n",
       "0             pearson  1.000000  2.476719  1.0  0.115543  0.00536  0.349877\n",
       "1        cressie-read  0.666667  2.476718  1.0  0.115543  0.00536  0.349877\n",
       "2      log-likelihood  0.000000  2.476721  1.0  0.115543  0.00536  0.349878\n",
       "3       freeman-tukey -0.500000  2.476727  1.0  0.115542  0.00536  0.349878\n",
       "4  mod-log-likelihood -1.000000  2.476736  1.0  0.115542  0.00536  0.349879\n",
       "5              neyman -2.000000  2.476762  1.0  0.115540  0.00536  0.349883"
      ]
     },
     "execution_count": 24,
     "metadata": {},
     "output_type": "execute_result"
    }
   ],
   "source": [
    "# Реализуем тест Хи-квадрат\n",
    "exp, obs, stats = pg.chi2_independence(data=clear_df, x='version', y='retention_1')\n",
    "stats"
   ]
  },
  {
   "cell_type": "markdown",
   "metadata": {},
   "source": [
    "Полученные значения pvalue для всех видов тестов выше заданного уровня значимости. Для критерия согласия Пирсона pvalue=0.116, следовательно, у нас нет оснований отвергнуть нулевую гипотезу о независимости распределений.\n",
    "\n",
    "Можно считать, что сдвиг ворот с 30 на 40 уровень не повлиял на удержание пользователей в первый день после регистрации в игре.\n",
    "\n",
    "Рассмотрим аналогично для Retention седьмого дня:"
   ]
  },
  {
   "cell_type": "markdown",
   "metadata": {},
   "source": [
    "##### 2.2.2. Retention седьмого дня."
   ]
  },
  {
   "cell_type": "code",
   "execution_count": 25,
   "metadata": {},
   "outputs": [
    {
     "name": "stdout",
     "output_type": "stream",
     "text": [
      "Retention седьмого дня в контрольной группе = 0.20\n",
      "Retention седьмого дня в тестовой группе = 0.19\n"
     ]
    }
   ],
   "source": [
    "# Считаем retention для групп\n",
    "ret_7_A = gr_A.retention_7.mean()\n",
    "ret_7_B = gr_B.retention_7.mean()\n",
    "print(f'Retention седьмого дня в контрольной группе = {ret_7_A:.2f}')\n",
    "print(f'Retention седьмого дня в тестовой группе = {ret_7_B:.2f}')"
   ]
  },
  {
   "cell_type": "code",
   "execution_count": 26,
   "metadata": {},
   "outputs": [
    {
     "data": {
      "text/html": [
       "<div>\n",
       "<style scoped>\n",
       "    .dataframe tbody tr th:only-of-type {\n",
       "        vertical-align: middle;\n",
       "    }\n",
       "\n",
       "    .dataframe tbody tr th {\n",
       "        vertical-align: top;\n",
       "    }\n",
       "\n",
       "    .dataframe thead th {\n",
       "        text-align: right;\n",
       "    }\n",
       "</style>\n",
       "<table border=\"1\" class=\"dataframe\">\n",
       "  <thead>\n",
       "    <tr style=\"text-align: right;\">\n",
       "      <th></th>\n",
       "      <th>test</th>\n",
       "      <th>lambda</th>\n",
       "      <th>chi2</th>\n",
       "      <th>dof</th>\n",
       "      <th>pval</th>\n",
       "      <th>cramer</th>\n",
       "      <th>power</th>\n",
       "    </tr>\n",
       "  </thead>\n",
       "  <tbody>\n",
       "    <tr>\n",
       "      <th>0</th>\n",
       "      <td>pearson</td>\n",
       "      <td>1.000000</td>\n",
       "      <td>8.984878</td>\n",
       "      <td>1.0</td>\n",
       "      <td>0.002722</td>\n",
       "      <td>0.01021</td>\n",
       "      <td>0.850252</td>\n",
       "    </tr>\n",
       "    <tr>\n",
       "      <th>1</th>\n",
       "      <td>cressie-read</td>\n",
       "      <td>0.666667</td>\n",
       "      <td>8.984751</td>\n",
       "      <td>1.0</td>\n",
       "      <td>0.002722</td>\n",
       "      <td>0.01021</td>\n",
       "      <td>0.850247</td>\n",
       "    </tr>\n",
       "    <tr>\n",
       "      <th>2</th>\n",
       "      <td>log-likelihood</td>\n",
       "      <td>0.000000</td>\n",
       "      <td>8.984672</td>\n",
       "      <td>1.0</td>\n",
       "      <td>0.002723</td>\n",
       "      <td>0.01021</td>\n",
       "      <td>0.850244</td>\n",
       "    </tr>\n",
       "    <tr>\n",
       "      <th>3</th>\n",
       "      <td>freeman-tukey</td>\n",
       "      <td>-0.500000</td>\n",
       "      <td>8.984768</td>\n",
       "      <td>1.0</td>\n",
       "      <td>0.002722</td>\n",
       "      <td>0.01021</td>\n",
       "      <td>0.850248</td>\n",
       "    </tr>\n",
       "    <tr>\n",
       "      <th>4</th>\n",
       "      <td>mod-log-likelihood</td>\n",
       "      <td>-1.000000</td>\n",
       "      <td>8.984995</td>\n",
       "      <td>1.0</td>\n",
       "      <td>0.002722</td>\n",
       "      <td>0.01021</td>\n",
       "      <td>0.850257</td>\n",
       "    </tr>\n",
       "    <tr>\n",
       "      <th>5</th>\n",
       "      <td>neyman</td>\n",
       "      <td>-2.000000</td>\n",
       "      <td>8.985847</td>\n",
       "      <td>1.0</td>\n",
       "      <td>0.002721</td>\n",
       "      <td>0.01021</td>\n",
       "      <td>0.850290</td>\n",
       "    </tr>\n",
       "  </tbody>\n",
       "</table>\n",
       "</div>"
      ],
      "text/plain": [
       "                 test    lambda      chi2  dof      pval   cramer     power\n",
       "0             pearson  1.000000  8.984878  1.0  0.002722  0.01021  0.850252\n",
       "1        cressie-read  0.666667  8.984751  1.0  0.002722  0.01021  0.850247\n",
       "2      log-likelihood  0.000000  8.984672  1.0  0.002723  0.01021  0.850244\n",
       "3       freeman-tukey -0.500000  8.984768  1.0  0.002722  0.01021  0.850248\n",
       "4  mod-log-likelihood -1.000000  8.984995  1.0  0.002722  0.01021  0.850257\n",
       "5              neyman -2.000000  8.985847  1.0  0.002721  0.01021  0.850290"
      ]
     },
     "execution_count": 26,
     "metadata": {},
     "output_type": "execute_result"
    }
   ],
   "source": [
    "# Реализуем тест Хи-квадрат\n",
    "exp, obs, stats = pg.chi2_independence(data=clear_df, x='version', y='retention_7')\n",
    "stats"
   ]
  },
  {
   "cell_type": "markdown",
   "metadata": {},
   "source": [
    "Значение Retention в тестовой группе уменьшилось, и тест показал статистическую значимость этого отличия: pvalue = 0.003, что меньше заданного уровня значимости. Следовательно, мы отвергаем гипотезу о независимости распределений.\n",
    "\n",
    "Сдвиг ворот с 30 на 40 уровень снизил метрику удержания."
   ]
  },
  {
   "cell_type": "markdown",
   "metadata": {},
   "source": [
    "### 3. Общие выводы."
   ]
  },
  {
   "cell_type": "markdown",
   "metadata": {},
   "source": [
    "В работе были проанализированы результаты A/B-тестирования по трем метрикам:\n",
    "\n",
    "* Среднее количество сыгранных раундов.\n",
    "* Retention первого дня.\n",
    "* Retention седьмого дня.\n",
    "\n",
    "Бизнес-гипотеза состояла в том, что при сдвиге ворот с 30 уровня на 40 у пользователей возрастет интерес к игре.\n",
    "\n",
    "Статистические тесты показали, что среднее количество сыгранных раундов не изменилось, retention первого дня не изменился, а retention седьмого дня в результате эксперимента уменьшился.\n",
    "\n",
    "Вывод: если мы хотим иметь высокий порог удержания, нам не следует перемещать ворота с 30 уровня на 40.\n",
    "\n"
   ]
  }
 ],
 "metadata": {
  "kernelspec": {
   "display_name": "Python 3",
   "language": "python",
   "name": "python3"
  },
  "language_info": {
   "codemirror_mode": {
    "name": "ipython",
    "version": 3
   },
   "file_extension": ".py",
   "mimetype": "text/x-python",
   "name": "python",
   "nbconvert_exporter": "python",
   "pygments_lexer": "ipython3",
   "version": "3.11.8"
  }
 },
 "nbformat": 4,
 "nbformat_minor": 2
}
